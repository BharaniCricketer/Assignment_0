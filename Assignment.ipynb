{
 "cells": [
  {
   "cell_type": "code",
   "execution_count": 1,
   "id": "4e23e27a",
   "metadata": {},
   "outputs": [
    {
     "name": "stdout",
     "output_type": "stream",
     "text": [
      "3\n",
      "NOT EVEN\n"
     ]
    }
   ],
   "source": [
    "# 1.Python program to check whether the given number is even or not.\n",
    "a = int(input())\n",
    "if (a%2 == 0):\n",
    "    print(\"EVEN\")\n",
    "else:\n",
    "    print(\"NOT EVEN\")\n"
   ]
  },
  {
   "cell_type": "code",
   "execution_count": 2,
   "id": "cf4ab37b",
   "metadata": {},
   "outputs": [
    {
     "name": "stdout",
     "output_type": "stream",
     "text": [
      "32.3\n",
      "90.14\n"
     ]
    }
   ],
   "source": [
    "# 2. Python program to convert the temperature in degree centigrade to Fahrenheit.\n",
    "c =float(input())\n",
    "f =(c*9/5)+32\n",
    "print(f)"
   ]
  },
  {
   "cell_type": "code",
   "execution_count": 3,
   "id": "0c608471",
   "metadata": {},
   "outputs": [
    {
     "name": "stdout",
     "output_type": "stream",
     "text": [
      "3\n",
      "2\n",
      "3\n",
      "4\n",
      "24.0\n"
     ]
    }
   ],
   "source": [
    "#3. Python program to find the product of a set of real numbers.\n",
    "product = 1\n",
    "\n",
    "count = int(input())\n",
    "\n",
    "for i in range(count):\n",
    "\n",
    "    x = float(input())\n",
    "\n",
    "    product = product * x\n",
    "\n",
    "print(product)"
   ]
  },
  {
   "cell_type": "code",
   "execution_count": 4,
   "id": "d38893c6",
   "metadata": {},
   "outputs": [
    {
     "name": "stdout",
     "output_type": "stream",
     "text": [
      "4\n",
      "24\n"
     ]
    }
   ],
   "source": [
    "#4. Python program to find the factorial of a number using recursion.\n",
    "def fac(n):\n",
    " if n==0:\n",
    "    return 1\n",
    " else:\n",
    "    return n*fac(n-1)\n",
    "m= int(input())\n",
    "result = fac(m)\n",
    "print(result)"
   ]
  },
  {
   "cell_type": "code",
   "execution_count": 5,
   "id": "a6e0b204",
   "metadata": {},
   "outputs": [
    {
     "name": "stdout",
     "output_type": "stream",
     "text": [
      "Index  4\n"
     ]
    }
   ],
   "source": [
    "arr = [1,2,3,4,5,6]\n",
    "x = 5\n",
    "def search(arr, x):\n",
    "  \n",
    "    for i in range(len(arr)):\n",
    "  \n",
    "        if arr[i] == x:\n",
    "            return i\n",
    "  \n",
    "    return -1\n",
    "print(\"Index \",search(arr, x))"
   ]
  },
  {
   "cell_type": "code",
   "execution_count": 6,
   "id": "90922c62",
   "metadata": {},
   "outputs": [
    {
     "name": "stdout",
     "output_type": "stream",
     "text": [
      "Element is present at index 1\n"
     ]
    }
   ],
   "source": [
    "#6. Python program to implement binary search\n",
    "def binary_search(arr, low, high, x):\n",
    "    if high >= low:\n",
    "        mid = (high + low) // 2\n",
    "        if arr[mid] == x:\n",
    "            return mid\n",
    "        elif arr[mid] > x:\n",
    "            return binary_search(arr, low, mid - 1, x)\n",
    "        else:\n",
    "            return binary_search(arr, mid + 1, high, x)\n",
    "    else:\n",
    "        return -1\n",
    "arr = [ 10, 20, 30, 35, 40 ]\n",
    "x = 20\n",
    "result = binary_search(arr, 0, len(arr)-1, x)\n",
    "if result != -1:\n",
    "    print(\"Element is present at index\", result)\n",
    "else:\n",
    "    print(\"Element is not present in array\")"
   ]
  },
  {
   "cell_type": "code",
   "execution_count": 10,
   "id": "28424ae4",
   "metadata": {},
   "outputs": [
    {
     "name": "stdout",
     "output_type": "stream",
     "text": [
      "Enter List Length: 4\n",
      "Enter the List: 3\n",
      "Enter the List: 4\n",
      "Enter the List: 2\n",
      "Enter the List: 1\n",
      "List  = [1, 2, 3, 4]\n",
      "Largest element is: 4\n"
     ]
    }
   ],
   "source": [
    "#7. Python program to find the largest number in a list without using built-in functions\n",
    "l = []\n",
    "n = int(input(\"Enter List Length: \"))\n",
    "for i in range(n):\n",
    "  e = int(input(\"Enter the List: \"))\n",
    "  l.append(e)\n",
    "l.sort()\n",
    "print(\"List  =\",   l)\n",
    "print(\"Largest element is:\", l[-1])"
   ]
  },
  {
   "cell_type": "code",
   "execution_count": 12,
   "id": "2c6c34a9",
   "metadata": {},
   "outputs": [
    {
     "name": "stdout",
     "output_type": "stream",
     "text": [
      "[1, 2, 3, 4, 6, 7, 8, 9]\n"
     ]
    }
   ],
   "source": [
    "# 8. Python program to delete an element from a list by index\n",
    "l = [1,2,3,4,5,6,7,8,9]\n",
    "del l[4]\n",
    "print(l)\n"
   ]
  },
  {
   "cell_type": "code",
   "execution_count": 14,
   "id": "32432853",
   "metadata": {},
   "outputs": [
    {
     "name": "stdout",
     "output_type": "stream",
     "text": [
      "50\n",
      "90\n",
      "40\n",
      "60\n"
     ]
    }
   ],
   "source": [
    " # 9.Python program to print all the items in a dictionary\n",
    "dicta = {'Bharani':50, 'Gupta':90,'Arul':40,'Raghul':60}\n",
    "for value in dicta.values():\n",
    "    print(value) "
   ]
  },
  {
   "cell_type": "code",
   "execution_count": 15,
   "id": "76bb6098",
   "metadata": {},
   "outputs": [
    {
     "name": "stdout",
     "output_type": "stream",
     "text": [
      "Please enter the 10 integers      :               1\n",
      "Please enter the 10 integers      :               2\n",
      "Please enter the 10 integers      :               3\n",
      "Please enter the 10 integers      :               4\n",
      "Please enter the 10 integers      :               5\n",
      "Please enter the 10 integers      :               6\n",
      "Please enter the 10 integers      :               7\n",
      "Please enter the 10 integers      :               8\n",
      "Please enter the 10 integers      :               9\n",
      "Please enter the 10 integers      :               10\n",
      "sum  =    55\n",
      "average   =     5.5\n"
     ]
    }
   ],
   "source": [
    "# 10.Sum and average of 10 numbers\n",
    "sum=0\n",
    "for i in range(1,11,1):\n",
    "  num= int(input(\"Please enter the 10 integers      :               \"))\n",
    "  sum = sum+num\n",
    "print(\"sum  =   \",sum)\n",
    "print(\"average   =    \",sum/10)"
   ]
  },
  {
   "cell_type": "code",
   "execution_count": null,
   "id": "50343f29",
   "metadata": {},
   "outputs": [],
   "source": []
  }
 ],
 "metadata": {
  "kernelspec": {
   "display_name": "Python 3 (ipykernel)",
   "language": "python",
   "name": "python3"
  },
  "language_info": {
   "codemirror_mode": {
    "name": "ipython",
    "version": 3
   },
   "file_extension": ".py",
   "mimetype": "text/x-python",
   "name": "python",
   "nbconvert_exporter": "python",
   "pygments_lexer": "ipython3",
   "version": "3.9.7"
  }
 },
 "nbformat": 4,
 "nbformat_minor": 5
}
